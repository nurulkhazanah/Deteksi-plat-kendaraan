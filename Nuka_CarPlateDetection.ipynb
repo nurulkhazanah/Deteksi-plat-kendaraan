{
  "metadata": {
    "kernelspec": {
      "display_name": "Python 3",
      "name": "python3"
    },
    "language_info": {
      "name": "python",
      "version": "3.10.13",
      "mimetype": "text/x-python",
      "codemirror_mode": {
        "name": "ipython",
        "version": 3
      },
      "pygments_lexer": "ipython3",
      "nbconvert_exporter": "python",
      "file_extension": ".py"
    },
    "kaggle": {
      "accelerator": "gpu",
      "dataSources": [
        {
          "sourceId": 32821,
          "sourceType": "modelInstanceVersion",
          "modelInstanceId": 27474
        }
      ],
      "dockerImageVersionId": 30683,
      "isInternetEnabled": true,
      "language": "python",
      "sourceType": "notebook",
      "isGpuEnabled": true
    },
    "colab": {
      "name": "CarPlateDetection",
      "provenance": [],
      "gpuType": "T4"
    },
    "accelerator": "GPU"
  },
  "nbformat_minor": 0,
  "nbformat": 4,
  "cells": [
    {
      "cell_type": "code",
      "source": [
        "!pip install roboflow\n",
        "\n",
        "from roboflow import Roboflow"
      ],
      "metadata": {
        "execution": {
          "iopub.status.busy": "2024-04-18T23:11:47.661197Z",
          "iopub.execute_input": "2024-04-18T23:11:47.662018Z",
          "iopub.status.idle": "2024-04-18T23:12:05.107222Z",
          "shell.execute_reply.started": "2024-04-18T23:11:47.661982Z",
          "shell.execute_reply": "2024-04-18T23:12:05.106244Z"
        },
        "trusted": true,
        "id": "4cr7W5bMwidw",
        "outputId": "1a85c7bd-98fa-4c8e-bdc3-17b6cf07931c",
        "colab": {
          "base_uri": "https://localhost:8080/"
        }
      },
      "execution_count": 1,
      "outputs": [
        {
          "output_type": "stream",
          "name": "stdout",
          "text": [
            "Collecting roboflow\n",
            "  Downloading roboflow-1.1.66-py3-none-any.whl.metadata (9.7 kB)\n",
            "Requirement already satisfied: certifi in /usr/local/lib/python3.11/dist-packages (from roboflow) (2025.6.15)\n",
            "Collecting idna==3.7 (from roboflow)\n",
            "  Downloading idna-3.7-py3-none-any.whl.metadata (9.9 kB)\n",
            "Requirement already satisfied: cycler in /usr/local/lib/python3.11/dist-packages (from roboflow) (0.12.1)\n",
            "Requirement already satisfied: kiwisolver>=1.3.1 in /usr/local/lib/python3.11/dist-packages (from roboflow) (1.4.8)\n",
            "Requirement already satisfied: matplotlib in /usr/local/lib/python3.11/dist-packages (from roboflow) (3.10.0)\n",
            "Requirement already satisfied: numpy>=1.18.5 in /usr/local/lib/python3.11/dist-packages (from roboflow) (2.0.2)\n",
            "Collecting opencv-python-headless==4.10.0.84 (from roboflow)\n",
            "  Downloading opencv_python_headless-4.10.0.84-cp37-abi3-manylinux_2_17_x86_64.manylinux2014_x86_64.whl.metadata (20 kB)\n",
            "Requirement already satisfied: Pillow>=7.1.2 in /usr/local/lib/python3.11/dist-packages (from roboflow) (11.2.1)\n",
            "Collecting pillow-heif>=0.18.0 (from roboflow)\n",
            "  Downloading pillow_heif-0.22.0-cp311-cp311-manylinux_2_17_x86_64.manylinux2014_x86_64.whl.metadata (9.6 kB)\n",
            "Requirement already satisfied: python-dateutil in /usr/local/lib/python3.11/dist-packages (from roboflow) (2.9.0.post0)\n",
            "Collecting python-dotenv (from roboflow)\n",
            "  Downloading python_dotenv-1.1.0-py3-none-any.whl.metadata (24 kB)\n",
            "Requirement already satisfied: requests in /usr/local/lib/python3.11/dist-packages (from roboflow) (2.32.3)\n",
            "Requirement already satisfied: six in /usr/local/lib/python3.11/dist-packages (from roboflow) (1.17.0)\n",
            "Requirement already satisfied: urllib3>=1.26.6 in /usr/local/lib/python3.11/dist-packages (from roboflow) (2.4.0)\n",
            "Requirement already satisfied: tqdm>=4.41.0 in /usr/local/lib/python3.11/dist-packages (from roboflow) (4.67.1)\n",
            "Requirement already satisfied: PyYAML>=5.3.1 in /usr/local/lib/python3.11/dist-packages (from roboflow) (6.0.2)\n",
            "Requirement already satisfied: requests-toolbelt in /usr/local/lib/python3.11/dist-packages (from roboflow) (1.0.0)\n",
            "Collecting filetype (from roboflow)\n",
            "  Downloading filetype-1.2.0-py2.py3-none-any.whl.metadata (6.5 kB)\n",
            "Requirement already satisfied: contourpy>=1.0.1 in /usr/local/lib/python3.11/dist-packages (from matplotlib->roboflow) (1.3.2)\n",
            "Requirement already satisfied: fonttools>=4.22.0 in /usr/local/lib/python3.11/dist-packages (from matplotlib->roboflow) (4.58.4)\n",
            "Requirement already satisfied: packaging>=20.0 in /usr/local/lib/python3.11/dist-packages (from matplotlib->roboflow) (24.2)\n",
            "Requirement already satisfied: pyparsing>=2.3.1 in /usr/local/lib/python3.11/dist-packages (from matplotlib->roboflow) (3.2.3)\n",
            "Requirement already satisfied: charset-normalizer<4,>=2 in /usr/local/lib/python3.11/dist-packages (from requests->roboflow) (3.4.2)\n",
            "Downloading roboflow-1.1.66-py3-none-any.whl (86 kB)\n",
            "\u001b[2K   \u001b[90m━━━━━━━━━━━━━━━━━━━━━━━━━━━━━━━━━━━━━━━━\u001b[0m \u001b[32m86.7/86.7 kB\u001b[0m \u001b[31m3.6 MB/s\u001b[0m eta \u001b[36m0:00:00\u001b[0m\n",
            "\u001b[?25hDownloading idna-3.7-py3-none-any.whl (66 kB)\n",
            "\u001b[2K   \u001b[90m━━━━━━━━━━━━━━━━━━━━━━━━━━━━━━━━━━━━━━━━\u001b[0m \u001b[32m66.8/66.8 kB\u001b[0m \u001b[31m5.3 MB/s\u001b[0m eta \u001b[36m0:00:00\u001b[0m\n",
            "\u001b[?25hDownloading opencv_python_headless-4.10.0.84-cp37-abi3-manylinux_2_17_x86_64.manylinux2014_x86_64.whl (49.9 MB)\n",
            "\u001b[2K   \u001b[90m━━━━━━━━━━━━━━━━━━━━━━━━━━━━━━━━━━━━━━━━\u001b[0m \u001b[32m49.9/49.9 MB\u001b[0m \u001b[31m13.1 MB/s\u001b[0m eta \u001b[36m0:00:00\u001b[0m\n",
            "\u001b[?25hDownloading pillow_heif-0.22.0-cp311-cp311-manylinux_2_17_x86_64.manylinux2014_x86_64.whl (7.8 MB)\n",
            "\u001b[2K   \u001b[90m━━━━━━━━━━━━━━━━━━━━━━━━━━━━━━━━━━━━━━━━\u001b[0m \u001b[32m7.8/7.8 MB\u001b[0m \u001b[31m26.4 MB/s\u001b[0m eta \u001b[36m0:00:00\u001b[0m\n",
            "\u001b[?25hDownloading filetype-1.2.0-py2.py3-none-any.whl (19 kB)\n",
            "Downloading python_dotenv-1.1.0-py3-none-any.whl (20 kB)\n",
            "Installing collected packages: filetype, python-dotenv, pillow-heif, opencv-python-headless, idna, roboflow\n",
            "  Attempting uninstall: opencv-python-headless\n",
            "    Found existing installation: opencv-python-headless 4.11.0.86\n",
            "    Uninstalling opencv-python-headless-4.11.0.86:\n",
            "      Successfully uninstalled opencv-python-headless-4.11.0.86\n",
            "  Attempting uninstall: idna\n",
            "    Found existing installation: idna 3.10\n",
            "    Uninstalling idna-3.10:\n",
            "      Successfully uninstalled idna-3.10\n",
            "Successfully installed filetype-1.2.0 idna-3.7 opencv-python-headless-4.10.0.84 pillow-heif-0.22.0 python-dotenv-1.1.0 roboflow-1.1.66\n"
          ]
        }
      ]
    },
    {
      "cell_type": "code",
      "source": [
        "rf = Roboflow(api_key=\"URIVAmnRmqDu9EEWx6go\")\n",
        "project = rf.workspace(\"plat-kendaraan\").project(\"vehicle-and-license-plate\")\n",
        "version = project.version(3)\n",
        "dataset = version.download(\"tensorflow\")"
      ],
      "metadata": {
        "execution": {
          "iopub.status.busy": "2024-04-18T23:12:05.108899Z",
          "iopub.execute_input": "2024-04-18T23:12:05.109193Z",
          "iopub.status.idle": "2024-04-18T23:12:20.033504Z",
          "shell.execute_reply.started": "2024-04-18T23:12:05.109167Z",
          "shell.execute_reply": "2024-04-18T23:12:20.032633Z"
        },
        "trusted": true,
        "id": "-YYntlzVwidy",
        "outputId": "e19928a3-dd3f-4ad4-9492-2dbd8f286d4c",
        "colab": {
          "base_uri": "https://localhost:8080/"
        }
      },
      "execution_count": 2,
      "outputs": [
        {
          "output_type": "stream",
          "name": "stdout",
          "text": [
            "loading Roboflow workspace...\n",
            "loading Roboflow project...\n"
          ]
        },
        {
          "output_type": "stream",
          "name": "stderr",
          "text": [
            "Downloading Dataset Version Zip in vehicle-and-license-plate-3 to tensorflow:: 100%|██████████| 337541/337541 [00:08<00:00, 39703.71it/s]"
          ]
        },
        {
          "output_type": "stream",
          "name": "stdout",
          "text": [
            "\n"
          ]
        },
        {
          "output_type": "stream",
          "name": "stderr",
          "text": [
            "\n",
            "Extracting Dataset Version Zip to vehicle-and-license-plate-3 in tensorflow:: 100%|██████████| 5563/5563 [00:02<00:00, 2132.39it/s]\n"
          ]
        }
      ]
    },
    {
      "cell_type": "code",
      "source": [
        "import pandas as pd\n",
        "import numpy as np\n",
        "import matplotlib.pyplot as plt\n",
        "import os\n",
        "import torch\n",
        "\n",
        "from torch.utils.data import Dataset\n",
        "from torch.utils.data import DataLoader\n",
        "from torchvision import transforms\n",
        "from torchvision.models.detection import fasterrcnn_resnet50_fpn\n",
        "from torchvision.models.detection import FasterRCNN_ResNet50_FPN_Weights\n",
        "from torchvision.models.detection.faster_rcnn import FastRCNNPredictor\n",
        "from torch.optim import SGD\n",
        "from torch.optim import Adam\n",
        "from torchvision.ops import nms\n",
        "\n",
        "from PIL import Image, ImageDraw, ImageFont"
      ],
      "metadata": {
        "execution": {
          "iopub.status.busy": "2024-04-18T23:12:20.035393Z",
          "iopub.execute_input": "2024-04-18T23:12:20.035686Z",
          "iopub.status.idle": "2024-04-18T23:12:27.266747Z",
          "shell.execute_reply.started": "2024-04-18T23:12:20.035661Z",
          "shell.execute_reply": "2024-04-18T23:12:27.265925Z"
        },
        "trusted": true,
        "id": "x9DGtsvvwidz"
      },
      "execution_count": 3,
      "outputs": []
    },
    {
      "cell_type": "markdown",
      "source": [
        "<h1>Load Data<h1>"
      ],
      "metadata": {
        "id": "3cLtpCn0widz"
      }
    },
    {
      "cell_type": "code",
      "source": [
        "class CarPlateDataset(Dataset):\n",
        "    def __init__(self, df, image_dir, unique_img, indices, transform=None, test_mode=False, val_mode=False):\n",
        "        self.df = df\n",
        "        self.image_dir = image_dir\n",
        "        self.unique_img = unique_img\n",
        "        self.indices = indices\n",
        "        self.transform = transform\n",
        "        self.test_mode = test_mode\n",
        "        self.val_mode = val_mode\n",
        "    def __len__(self):\n",
        "        return len(self.indices)\n",
        "\n",
        "    def __getitem__(self, idx):\n",
        "        image_name = self.unique_img[self.indices[idx]]\n",
        "\n",
        "        if self.test_mode:\n",
        "            image_path = os.path.join(self.image_dir,\"test\", image_name)\n",
        "        elif self.val_mode:\n",
        "            image_path = os.path.join(self.image_dir,\"valid\", image_name)\n",
        "        else:\n",
        "            image_path = os.path.join(self.image_dir,\"train\", image_name)\n",
        "\n",
        "        image = Image.open(image_path)\n",
        "        boxes = self.df[self.df['filename'] == image_name].values[:, 4:].astype(float)\n",
        "        labels = torch.ones((boxes.shape[0]), dtype=torch.int64)\n",
        "        target = {}\n",
        "        target[\"boxes\"] = torch.tensor(boxes, dtype=torch.float32)\n",
        "        target[\"labels\"] = labels\n",
        "\n",
        "        return transforms.ToTensor()(image), target\n",
        "\n",
        "\n",
        "def custom_collate(data):\n",
        "    return data"
      ],
      "metadata": {
        "execution": {
          "iopub.status.busy": "2024-04-18T23:12:27.268871Z",
          "iopub.execute_input": "2024-04-18T23:12:27.270016Z",
          "iopub.status.idle": "2024-04-18T23:12:27.279666Z",
          "shell.execute_reply.started": "2024-04-18T23:12:27.269991Z",
          "shell.execute_reply": "2024-04-18T23:12:27.27894Z"
        },
        "trusted": true,
        "id": "1iFXhT7owidz"
      },
      "execution_count": 4,
      "outputs": []
    },
    {
      "cell_type": "code",
      "source": [
        "Image_path = \"vehicle-and-license-plate-3\"\n",
        "\n",
        "train_df = pd.read_csv(\"vehicle-and-license-plate-3/train/_annotations.csv\")\n",
        "val_df = pd.read_csv(\"vehicle-and-license-plate-3/valid/_annotations.csv\")\n",
        "test_df = pd.read_csv(\"vehicle-and-license-plate-3/test/_annotations.csv\")\n",
        "\n",
        "train_df = train_df[train_df['class'] == 'License_Plate']\n",
        "train_unique = train_df.filename.unique()\n",
        "train_indices = list(range(len(train_unique)))\n",
        "\n",
        "val_df = val_df[val_df['class'] == 'License_Plate']\n",
        "val_unique = val_df.filename.unique()\n",
        "val_indices = list(range(len(val_unique)))\n",
        "\n",
        "test_df = test_df[test_df['class'] == 'License_Plate']\n",
        "test_unique = test_df.filename.unique()\n",
        "test_indices = list(range(len(test_unique)))"
      ],
      "metadata": {
        "execution": {
          "iopub.status.busy": "2024-04-18T23:12:27.281329Z",
          "iopub.execute_input": "2024-04-18T23:12:27.282149Z",
          "iopub.status.idle": "2024-04-18T23:12:27.338272Z",
          "shell.execute_reply.started": "2024-04-18T23:12:27.282118Z",
          "shell.execute_reply": "2024-04-18T23:12:27.3375Z"
        },
        "trusted": true,
        "id": "GU7ujXOPwid0"
      },
      "execution_count": 5,
      "outputs": []
    },
    {
      "cell_type": "code",
      "source": [
        "train_ds = CarPlateDataset(train_df, Image_path, train_unique, train_indices)\n",
        "val_ds = CarPlateDataset(val_df, Image_path, val_unique, val_indices, val_mode=True)\n",
        "test_ds = CarPlateDataset(test_df, Image_path, test_unique, test_indices, test_mode=True)"
      ],
      "metadata": {
        "execution": {
          "iopub.status.busy": "2024-04-18T23:12:27.33931Z",
          "iopub.execute_input": "2024-04-18T23:12:27.339577Z",
          "iopub.status.idle": "2024-04-18T23:12:27.34434Z",
          "shell.execute_reply.started": "2024-04-18T23:12:27.339554Z",
          "shell.execute_reply": "2024-04-18T23:12:27.343357Z"
        },
        "trusted": true,
        "id": "rdMCoKjDwid0"
      },
      "execution_count": 6,
      "outputs": []
    },
    {
      "cell_type": "code",
      "source": [
        "BATCH_SIZE = 16\n",
        "\n",
        "trainloader = DataLoader(train_ds, batch_size = BATCH_SIZE, shuffle=True, collate_fn=custom_collate)\n",
        "valloader = DataLoader(val_ds, batch_size = BATCH_SIZE, shuffle=True, collate_fn=custom_collate)\n",
        "testloader = DataLoader(test_ds, batch_size = BATCH_SIZE, shuffle=True, collate_fn=custom_collate)"
      ],
      "metadata": {
        "execution": {
          "iopub.status.busy": "2024-04-18T23:12:27.34549Z",
          "iopub.execute_input": "2024-04-18T23:12:27.345864Z",
          "iopub.status.idle": "2024-04-18T23:12:27.357766Z",
          "shell.execute_reply.started": "2024-04-18T23:12:27.34584Z",
          "shell.execute_reply": "2024-04-18T23:12:27.35682Z"
        },
        "trusted": true,
        "id": "t2AiyUHIwid0"
      },
      "execution_count": 7,
      "outputs": []
    },
    {
      "cell_type": "markdown",
      "source": [
        "<h1>Load Pretrained model<h1>"
      ],
      "metadata": {
        "id": "ISvWJ-mKwid1"
      }
    },
    {
      "cell_type": "code",
      "source": [
        "def load_frcnn():\n",
        "    weights = FasterRCNN_ResNet50_FPN_Weights.DEFAULT\n",
        "    model = fasterrcnn_resnet50_fpn(weights=weights)\n",
        "\n",
        "    in_features = model.roi_heads.box_predictor.cls_score.in_features\n",
        "    num_classes = 2\n",
        "    model.roi_heads.box_predictor = FastRCNNPredictor(in_channels=in_features, num_classes=num_classes)\n",
        "\n",
        "    return model"
      ],
      "metadata": {
        "execution": {
          "iopub.status.busy": "2024-04-18T23:12:27.358976Z",
          "iopub.execute_input": "2024-04-18T23:12:27.359384Z",
          "iopub.status.idle": "2024-04-18T23:12:27.36727Z",
          "shell.execute_reply.started": "2024-04-18T23:12:27.359354Z",
          "shell.execute_reply": "2024-04-18T23:12:27.366378Z"
        },
        "trusted": true,
        "id": "ros7xlBNwid1"
      },
      "execution_count": 8,
      "outputs": []
    },
    {
      "cell_type": "markdown",
      "source": [
        "<h1>Training<h1>"
      ],
      "metadata": {
        "id": "g96gufPIwid1"
      }
    },
    {
      "cell_type": "code",
      "source": [
        "def train_model(epochs, model, optimizer, device, trainloader, valloader):\n",
        "    # save the model with lowest validation loss\n",
        "    best_valid_loss = float(\"inf\")\n",
        "    model.train()\n",
        "    for epoch in range(epochs):\n",
        "        train_loss = 0\n",
        "        valid_loss = 0\n",
        "\n",
        "        for data in trainloader:\n",
        "            imgs = []\n",
        "            targets = []\n",
        "            for d in data:\n",
        "                imgs.append(d[0].to(device))\n",
        "                targ = {}\n",
        "                targ[\"boxes\"] = d[1][\"boxes\"].to(device)\n",
        "                targ[\"labels\"] = d[1][\"labels\"].to(device)\n",
        "                targets.append(targ)\n",
        "\n",
        "            loss_dict = model(imgs, targets)\n",
        "            torch.cuda.empty_cache()\n",
        "            loss = sum(l for l in loss_dict.values())\n",
        "            train_loss += loss.cpu().detach().numpy()\n",
        "            optimizer.zero_grad()\n",
        "            loss.backward()\n",
        "            optimizer.step()\n",
        "\n",
        "\n",
        "        # get validation loss\n",
        "        with torch.no_grad():\n",
        "            for data in valloader:\n",
        "                imgs = []\n",
        "                targets = []\n",
        "                for d in data:\n",
        "                    imgs.append(d[0].to(device))\n",
        "                    targ = {}\n",
        "                    targ[\"boxes\"] = d[1][\"boxes\"].to(device)\n",
        "                    targ[\"labels\"] = d[1][\"labels\"].to(device)\n",
        "                    targets.append(targ)\n",
        "\n",
        "                loss_dict = model(imgs, targets)\n",
        "                torch.cuda.empty_cache()\n",
        "                loss = sum(l for l in loss_dict.values())\n",
        "                valid_loss += loss.cpu().detach().numpy()\n",
        "\n",
        "\n",
        "        if valid_loss < best_valid_loss:\n",
        "            best_valid_loss = valid_loss\n",
        "            torch.save(model.state_dict(), \"/kaggle/working/frcnn.pth\")\n",
        "        print(f\"epoch: {epoch} | train_loss: {train_loss:.3f}, valid_loss: {valid_loss:.3f}\")\n",
        "    return best_valid_loss"
      ],
      "metadata": {
        "execution": {
          "iopub.status.busy": "2024-04-18T23:12:27.368371Z",
          "iopub.execute_input": "2024-04-18T23:12:27.368747Z",
          "iopub.status.idle": "2024-04-18T23:12:27.381107Z",
          "shell.execute_reply.started": "2024-04-18T23:12:27.368722Z",
          "shell.execute_reply": "2024-04-18T23:12:27.380321Z"
        },
        "trusted": true,
        "id": "lLgPri5Dwid2"
      },
      "execution_count": 9,
      "outputs": []
    },
    {
      "cell_type": "code",
      "source": [
        "device = torch.device(\"cuda\" if torch.cuda.is_available() else \"cpu\")\n",
        "print(device)"
      ],
      "metadata": {
        "execution": {
          "iopub.status.busy": "2024-04-18T23:12:27.384221Z",
          "iopub.execute_input": "2024-04-18T23:12:27.384494Z",
          "iopub.status.idle": "2024-04-18T23:12:27.419524Z",
          "shell.execute_reply.started": "2024-04-18T23:12:27.384473Z",
          "shell.execute_reply": "2024-04-18T23:12:27.418591Z"
        },
        "trusted": true,
        "id": "SsTRQ5eJwid2",
        "outputId": "d9dd737a-829c-40a1-a98c-747a2059f409",
        "colab": {
          "base_uri": "https://localhost:8080/"
        }
      },
      "execution_count": 10,
      "outputs": [
        {
          "output_type": "stream",
          "name": "stdout",
          "text": [
            "cuda\n"
          ]
        }
      ]
    },
    {
      "cell_type": "code",
      "source": [
        "model1 = load_frcnn()\n",
        "model2 = load_frcnn()\n",
        "models = [model1, model2]\n",
        "lr_list = [0.01, 0.001]\n",
        "valid_losses = []"
      ],
      "metadata": {
        "execution": {
          "iopub.status.busy": "2024-04-18T23:12:27.420571Z",
          "iopub.execute_input": "2024-04-18T23:12:27.420867Z",
          "iopub.status.idle": "2024-04-18T23:12:30.333438Z",
          "shell.execute_reply.started": "2024-04-18T23:12:27.420844Z",
          "shell.execute_reply": "2024-04-18T23:12:30.332473Z"
        },
        "trusted": true,
        "id": "pLJ8VGPVwid3",
        "outputId": "baee23af-6a92-47cf-9c16-e44586e3c7eb",
        "colab": {
          "base_uri": "https://localhost:8080/"
        }
      },
      "execution_count": 11,
      "outputs": [
        {
          "output_type": "stream",
          "name": "stderr",
          "text": [
            "Downloading: \"https://download.pytorch.org/models/fasterrcnn_resnet50_fpn_coco-258fb6c6.pth\" to /root/.cache/torch/hub/checkpoints/fasterrcnn_resnet50_fpn_coco-258fb6c6.pth\n",
            "100%|██████████| 160M/160M [00:01<00:00, 117MB/s]\n"
          ]
        }
      ]
    },
    {
      "cell_type": "code",
      "source": [
        "models[0].to(device)\n",
        "optimizer = SGD(models[0].parameters(), lr=lr_list[0], momentum=0.9, weight_decay=0.0005)\n",
        "valid_loss = train_model(20, models[0], optimizer,device, trainloader, valloader)\n",
        "valid_losses.append(valid_loss)\n",
        "models[0].load_state_dict(torch.load(\"/kaggle/working/frcnn.pth\"))\n",
        "print(\"Best valid loss = \", valid_loss)"
      ],
      "metadata": {
        "execution": {
          "iopub.status.busy": "2024-04-18T23:12:30.334486Z",
          "iopub.execute_input": "2024-04-18T23:12:30.334774Z"
        },
        "trusted": true,
        "id": "8xHx0MlKwid4"
      },
      "execution_count": null,
      "outputs": []
    },
    {
      "cell_type": "code",
      "source": [
        "models[1].to(device)\n",
        "optimizer = SGD(models[1].parameters(), lr=lr_list[1], momentum=0.9, weight_decay=0.0005)\n",
        "valid_loss = train_model(20, models[1], optimizer,device, trainloader, valloader)\n",
        "valid_losses.append(valid_loss)\n",
        "models[1].load_state_dict(torch.load(\"/kaggle/working/frcnn.pth\"))\n",
        "print(\"Best valid loss = \", valid_loss)"
      ],
      "metadata": {
        "trusted": true,
        "id": "7Ooan8_Mwid4"
      },
      "execution_count": null,
      "outputs": []
    },
    {
      "cell_type": "code",
      "source": [
        "best_idx = valid_losses.index(min(valid_losses))\n",
        "print(\"Best learning rate: \",lr_list[best_idx], \" valid loss = \", valid_losses[best_idx])\n",
        "best_model = models[best_idx]\n",
        "torch.save(best_model.state_dict(), \"/kaggle/working/frcnn.pth\")"
      ],
      "metadata": {
        "id": "cHwMMXg6wid5"
      },
      "execution_count": null,
      "outputs": []
    },
    {
      "cell_type": "markdown",
      "source": [
        "<h1>Evaluation<h1>"
      ],
      "metadata": {
        "id": "fz1ZVO1Cwid5"
      }
    },
    {
      "cell_type": "code",
      "source": [
        "# load model\n",
        "# best_model = load_frcnn()\n",
        "# best_model.to(device)\n",
        "# best_model.load_state_dict(torch.load(\"/kaggle/working/frcnn.pth\"))"
      ],
      "metadata": {
        "execution": {
          "iopub.status.busy": "2024-04-18T11:37:33.43425Z",
          "iopub.execute_input": "2024-04-18T11:37:33.434619Z",
          "iopub.status.idle": "2024-04-18T11:37:34.537765Z",
          "shell.execute_reply.started": "2024-04-18T11:37:33.434593Z",
          "shell.execute_reply": "2024-04-18T11:37:34.536188Z"
        },
        "trusted": true,
        "id": "7KJZokf8wid5"
      },
      "execution_count": null,
      "outputs": []
    },
    {
      "cell_type": "code",
      "source": [
        "!pip install pycocotools\n",
        "import pycocotools\n",
        "from torchmetrics.detection import MeanAveragePrecision"
      ],
      "metadata": {
        "execution": {
          "iopub.status.busy": "2024-04-18T13:03:40.197484Z",
          "iopub.execute_input": "2024-04-18T13:03:40.197854Z",
          "iopub.status.idle": "2024-04-18T13:03:54.598575Z",
          "shell.execute_reply.started": "2024-04-18T13:03:40.197825Z",
          "shell.execute_reply": "2024-04-18T13:03:54.597754Z"
        },
        "trusted": true,
        "id": "b9TkM0tfwid6"
      },
      "execution_count": null,
      "outputs": []
    },
    {
      "cell_type": "code",
      "source": [
        "best_model.eval()\n",
        "targets = []\n",
        "outputs = []\n",
        "for idx in range(len(test_ds)):\n",
        "    img, target = test_ds[idx]\n",
        "    target[\"boxes\"] = target[\"boxes\"].to(device)\n",
        "    target[\"labels\"] = target[\"labels\"].to(device)\n",
        "    targets.append(target)\n",
        "    with torch.no_grad():\n",
        "        output = best_model([img.to(device)])\n",
        "    outputs.append(output[0])\n",
        "\n",
        "\n",
        "metric = MeanAveragePrecision(iou_type=\"bbox\")\n",
        "metric.update(outputs, targets)"
      ],
      "metadata": {
        "execution": {
          "iopub.status.busy": "2024-04-18T13:09:40.499029Z",
          "iopub.execute_input": "2024-04-18T13:09:40.499408Z",
          "iopub.status.idle": "2024-04-18T13:09:41.6881Z",
          "shell.execute_reply.started": "2024-04-18T13:09:40.49938Z",
          "shell.execute_reply": "2024-04-18T13:09:41.687225Z"
        },
        "trusted": true,
        "id": "Db6vEJIlwid6"
      },
      "execution_count": null,
      "outputs": []
    },
    {
      "cell_type": "code",
      "source": [
        "print(metric.compute())"
      ],
      "metadata": {
        "execution": {
          "iopub.status.busy": "2024-04-18T13:09:42.927846Z",
          "iopub.execute_input": "2024-04-18T13:09:42.928463Z",
          "iopub.status.idle": "2024-04-18T13:09:42.970285Z",
          "shell.execute_reply.started": "2024-04-18T13:09:42.928431Z",
          "shell.execute_reply": "2024-04-18T13:09:42.969258Z"
        },
        "trusted": true,
        "id": "ahh8rAHPwid6"
      },
      "execution_count": null,
      "outputs": []
    },
    {
      "cell_type": "markdown",
      "source": [
        "<h1>Sample Images<h1>"
      ],
      "metadata": {
        "id": "5hLSMiN9wid6"
      }
    },
    {
      "cell_type": "code",
      "source": [
        "def show_sample(model, dataset, idx):\n",
        "\n",
        "    img,_ = dataset[idx]\n",
        "\n",
        "    # get output from model\n",
        "    model.eval()\n",
        "    with torch.no_grad():\n",
        "        output = model([img.to(device)])\n",
        "    out_boxes = output[0][\"boxes\"]\n",
        "    out_scores = output[0][\"scores\"]\n",
        "\n",
        "    # perform nms to filter out some of the bounding boxes\n",
        "    keep = nms(out_boxes, out_scores, 0.45)\n",
        "    out_boxes = out_boxes[keep]\n",
        "    out_scores = out_scores[keep]\n",
        "\n",
        "    img = (img.permute(1,2,0).cpu().detach().numpy() * 255).astype('uint8')\n",
        "    img = Image.fromarray(img)\n",
        "\n",
        "    draw = ImageDraw.Draw(img)\n",
        "    # predicted bb\n",
        "    for box in out_boxes:\n",
        "        draw.rectangle(list(box), fill=None, outline=\"red\", width=2)\n",
        "\n",
        "    return img, out_boxes"
      ],
      "metadata": {
        "execution": {
          "iopub.status.busy": "2024-04-18T13:10:21.933865Z",
          "iopub.execute_input": "2024-04-18T13:10:21.934273Z",
          "iopub.status.idle": "2024-04-18T13:10:21.942736Z",
          "shell.execute_reply.started": "2024-04-18T13:10:21.934242Z",
          "shell.execute_reply": "2024-04-18T13:10:21.941692Z"
        },
        "trusted": true,
        "id": "MmYJGDMEwid6"
      },
      "execution_count": null,
      "outputs": []
    },
    {
      "cell_type": "code",
      "source": [
        "index = 1\n",
        "img, out_boxes = show_sample(best_model, test_ds, index)\n",
        "img"
      ],
      "metadata": {
        "execution": {
          "iopub.status.busy": "2024-04-18T13:12:02.908631Z",
          "iopub.execute_input": "2024-04-18T13:12:02.90905Z",
          "iopub.status.idle": "2024-04-18T13:12:03.132506Z",
          "shell.execute_reply.started": "2024-04-18T13:12:02.909015Z",
          "shell.execute_reply": "2024-04-18T13:12:03.131667Z"
        },
        "trusted": true,
        "id": "3B9c05oewid6"
      },
      "execution_count": null,
      "outputs": []
    },
    {
      "cell_type": "code",
      "source": [],
      "metadata": {
        "id": "aSyGhjt1wid6"
      },
      "execution_count": null,
      "outputs": []
    }
  ]
}